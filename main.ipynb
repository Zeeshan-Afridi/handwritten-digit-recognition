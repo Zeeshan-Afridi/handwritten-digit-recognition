{
 "cells": [
  {
   "cell_type": "code",
   "execution_count": 1,
   "metadata": {},
   "outputs": [
    {
     "name": "stdout",
     "output_type": "stream",
     "text": [
      "WARNING:tensorflow:From c:\\Users\\Zeeshan Afridi\\anaconda3\\lib\\site-packages\\keras\\src\\losses.py:2976: The name tf.losses.sparse_softmax_cross_entropy is deprecated. Please use tf.compat.v1.losses.sparse_softmax_cross_entropy instead.\n",
      "\n"
     ]
    }
   ],
   "source": [
    "# import libraries, models and dataset\n",
    "from tensorflow.keras.datasets import mnist\n",
    "from tensorflow.keras.models import Sequential\n",
    "from tensorflow.keras.layers import Dense\n",
    "from tensorflow.keras.utils import to_categorical\n",
    "import matplotlib.pyplot as plt\n",
    "from sklearn.metrics import accuracy_score\n",
    "import numpy as np\n",
    "from time import time"
   ]
  },
  {
   "cell_type": "code",
   "execution_count": 2,
   "metadata": {},
   "outputs": [],
   "source": [
    "# data splitting into training and testing\n",
    "(x_train, y_train), (x_test, y_test) = mnist.load_data()"
   ]
  },
  {
   "cell_type": "code",
   "execution_count": 3,
   "metadata": {},
   "outputs": [
    {
     "name": "stdout",
     "output_type": "stream",
     "text": [
      "X_train shape:  (60000, 28, 28)\n",
      "Y_train shape:  (60000,)\n",
      "X_test shape:  (10000, 28, 28)\n",
      "Y_test shape:  (10000,)\n"
     ]
    }
   ],
   "source": [
    "# display the shapes of the mnist dataset\n",
    "print(f\"X_train shape:  {x_train.shape}\")\n",
    "print(f\"Y_train shape:  {y_train.shape}\")\n",
    "print(f\"X_test shape:  {x_test.shape}\")\n",
    "print(f\"Y_test shape:  {y_test.shape}\")"
   ]
  },
  {
   "cell_type": "code",
   "execution_count": 4,
   "metadata": {},
   "outputs": [
    {
     "name": "stdout",
     "output_type": "stream",
     "text": [
      "X_train reshaped:  (60000, 784)\n",
      "X_test reshaped:  (10000, 784)\n"
     ]
    }
   ],
   "source": [
    "# reshape x_train and x_train to prepare it for FCN (Fully connected layers)\n",
    "# currectly each data point in the given dataset is a 2D array of 28x28, which means there are 28 and 28 colums and a total of 784 points\n",
    "x_train_reshaped = x_train.reshape(60000,784)\n",
    "x_test_reshaped = x_test.reshape(10000,784)\n",
    "\n",
    "print(f\"X_train reshaped:  {x_train_reshaped.shape}\")\n",
    "print(f\"X_test reshaped:  {x_test_reshaped.shape}\")"
   ]
  },
  {
   "cell_type": "code",
   "execution_count": 5,
   "metadata": {},
   "outputs": [
    {
     "data": {
      "image/png": "[encoded data removed]",
      "text/plain": [
       "<Figure size 2400x400 with 24 Axes>"
      ]
     },
     "metadata": {},
     "output_type": "display_data"
    }
   ],
   "source": [
    "# let's print the first 12 images from x_train \n",
    "\n",
    "#number of images\n",
    "img_number = 12\n",
    "\n",
    "# create a fiqure size\n",
    "plt.figure(figsize=(24,4))\n",
    "\n",
    "# plot each img as a sub plot in the created figure\n",
    "for i in range(img_number):\n",
    "\n",
    "    # create a sub plot ---> 2 is for padding, \n",
    "    sub_plot = plt.subplot(2, img_number, i+1)\n",
    "    plt.axis('off')\n",
    "\n",
    "    # show img\n",
    "    plt.imshow(x_train[i])\n",
    "\n",
    "    # img should be in grayscale\n",
    "    plt.gray()\n",
    "\n",
    "    # Display digit label\n",
    "    sub_plot = plt.subplot(2, img_number, i + 1 + img_number)\n",
    "    \n",
    "    plt.text(0.5, 0.5, str(y_train[i]), fontsize=12, ha='center', va='center')\n",
    "    \n",
    "    # Hide x-axis and y-axis labels and ticks\n",
    "    plt.axis('off')\n",
    "\n",
    "# show the whole figure\n",
    "plt.show()\n",
    "plt.close() # close the plot"
   ]
  },
  {
   "cell_type": "code",
   "execution_count": 6,
   "metadata": {},
   "outputs": [],
   "source": [
    "# Convert the data type of the images to float32\n",
    "x_train_reshaped = x_train_reshaped.astype('float32')\n",
    "x_test_reshaped = x_test_reshaped.astype('float32')\n",
    "\n",
    "# Normalize the pixel values to a range between 0 and 1  # Zero is for Black  #1 for White\n",
    "x_train_reshaped /= 255\n",
    "x_test_reshaped /= 255"
   ]
  },
  {
   "cell_type": "code",
   "execution_count": 7,
   "metadata": {},
   "outputs": [
    {
     "name": "stdout",
     "output_type": "stream",
     "text": [
      "New X_train_reshaped shape: (60000, 784) \n",
      "New Y_train_encoded shape:(60000, 10)\n"
     ]
    }
   ],
   "source": [
    "# Number of classes in the dataset\n",
    "classes = 10\n",
    "\n",
    "# Convert the labels to one-hot encoded format\n",
    "y_train_encoded = to_categorical(y_train, classes)\n",
    "y_test_encoded = to_categorical(y_test, classes)\n",
    "\n",
    "# Print the shapes of the preprocessed training data and labels\n",
    "print(\"New X_train_reshaped shape: {} \\nNew Y_train_encoded shape:{}\".format(x_train_reshaped.shape, y_train_encoded.shape)) "
   ]
  },
  {
   "cell_type": "code",
   "execution_count": 14,
   "metadata": {},
   "outputs": [],
   "source": [
    "# hyperparameters selection\n",
    "\n",
    "# input size for each datapoint --> here in this case each img is of 784 pixels so the inpit_size should be\n",
    "input_size = 784\n",
    "\n",
    "# hidden layer 1\n",
    "hidden1 = 342\n",
    "\n",
    "# hidden layer 2\n",
    "hidden2 = 34\n",
    "\n",
    "# output layer --> number of classes we've 10\n",
    "classes =  10\n",
    "\n",
    "# divide the whole data into batches for smooth processing \n",
    "batch_size = 150 \n",
    "\n",
    "# the number of data learnings cycles\n",
    "epochs = 50"
   ]
  },
  {
   "cell_type": "code",
   "execution_count": 15,
   "metadata": {},
   "outputs": [
    {
     "name": "stdout",
     "output_type": "stream",
     "text": [
      "Model: \"sequential_1\"\n",
      "_________________________________________________________________\n",
      " Layer (type)                Output Shape              Param #   \n",
      "=================================================================\n",
      " dense_3 (Dense)             (None, 342)               268470    \n",
      "                                                                 \n",
      " dense_4 (Dense)             (None, 34)                11662     \n",
      "                                                                 \n",
      " dense_5 (Dense)             (None, 10)                350       \n",
      "                                                                 \n",
      "=================================================================\n",
      "Total params: 280482 (1.07 MB)\n",
      "Trainable params: 280482 (1.07 MB)\n",
      "Non-trainable params: 0 (0.00 Byte)\n",
      "_________________________________________________________________\n"
     ]
    }
   ],
   "source": [
    "# Building model\n",
    "\n",
    "# create an object of Sequential model\n",
    "model = Sequential()\n",
    "\n",
    "# adding layers\n",
    "# layer 1\n",
    "model.add(Dense(hidden1, input_dim = input_size, activation = 'relu' ))\n",
    "\n",
    "# layer 2\n",
    "model.add(Dense(hidden2, activation = 'relu' ))\n",
    "\n",
    "\n",
    "# output layer\n",
    "model.add(Dense(classes, activation = \"softmax\" ))\n",
    "\n",
    "# compile the model\n",
    "model.compile(loss=\"categorical_crossentropy\", metrics=[\"accuracy\"],optimizer=\"sgd\")\n",
    "\n",
    "# disply a summary of the model architecture --> number of layers and paramerters\n",
    "model.summary()"
   ]
  },
  {
   "cell_type": "code",
   "execution_count": 16,
   "metadata": {},
   "outputs": [
    {
     "name": "stdout",
     "output_type": "stream",
     "text": [
      "Epoch 1/50\n",
      "400/400 [==============================] - 2s 4ms/step - loss: 1.3111 - accuracy: 0.6805\n",
      "Epoch 2/50\n",
      "400/400 [==============================] - 1s 3ms/step - loss: 0.5394 - accuracy: 0.8615\n",
      "Epoch 3/50\n",
      "400/400 [==============================] - 2s 4ms/step - loss: 0.4112 - accuracy: 0.8867\n",
      "Epoch 4/50\n",
      "400/400 [==============================] - 1s 4ms/step - loss: 0.3573 - accuracy: 0.8997\n",
      "Epoch 5/50\n",
      "400/400 [==============================] - 2s 4ms/step - loss: 0.3252 - accuracy: 0.9082\n",
      "Epoch 6/50\n",
      "400/400 [==============================] - 2s 5ms/step - loss: 0.3021 - accuracy: 0.9137\n",
      "Epoch 7/50\n",
      "400/400 [==============================] - 2s 4ms/step - loss: 0.2840 - accuracy: 0.9189\n",
      "Epoch 8/50\n",
      "400/400 [==============================] - 2s 4ms/step - loss: 0.2690 - accuracy: 0.9231\n",
      "Epoch 9/50\n",
      "400/400 [==============================] - 2s 4ms/step - loss: 0.2562 - accuracy: 0.9272\n",
      "Epoch 10/50\n",
      "400/400 [==============================] - 1s 4ms/step - loss: 0.2448 - accuracy: 0.9304\n",
      "Epoch 11/50\n",
      "400/400 [==============================] - 1s 3ms/step - loss: 0.2346 - accuracy: 0.9337\n",
      "Epoch 12/50\n",
      "400/400 [==============================] - 1s 3ms/step - loss: 0.2254 - accuracy: 0.9361\n",
      "Epoch 13/50\n",
      "400/400 [==============================] - 1s 3ms/step - loss: 0.2167 - accuracy: 0.9383\n",
      "Epoch 14/50\n",
      "400/400 [==============================] - 1s 3ms/step - loss: 0.2088 - accuracy: 0.9409\n",
      "Epoch 15/50\n",
      "400/400 [==============================] - 1s 3ms/step - loss: 0.2014 - accuracy: 0.9431\n",
      "Epoch 16/50\n",
      "400/400 [==============================] - 1s 3ms/step - loss: 0.1945 - accuracy: 0.9451\n",
      "Epoch 17/50\n",
      "400/400 [==============================] - 1s 3ms/step - loss: 0.1880 - accuracy: 0.9470\n",
      "Epoch 18/50\n",
      "400/400 [==============================] - 1s 4ms/step - loss: 0.1820 - accuracy: 0.9488\n",
      "Epoch 19/50\n",
      "400/400 [==============================] - 2s 4ms/step - loss: 0.1764 - accuracy: 0.9503\n",
      "Epoch 20/50\n",
      "400/400 [==============================] - 2s 4ms/step - loss: 0.1709 - accuracy: 0.9519\n",
      "Epoch 21/50\n",
      "400/400 [==============================] - 2s 4ms/step - loss: 0.1658 - accuracy: 0.9532\n",
      "Epoch 22/50\n",
      "400/400 [==============================] - 1s 4ms/step - loss: 0.1610 - accuracy: 0.9548\n",
      "Epoch 23/50\n",
      "400/400 [==============================] - 2s 4ms/step - loss: 0.1565 - accuracy: 0.9556\n",
      "Epoch 24/50\n",
      "400/400 [==============================] - 2s 4ms/step - loss: 0.1523 - accuracy: 0.9568\n",
      "Epoch 25/50\n",
      "400/400 [==============================] - 2s 4ms/step - loss: 0.1481 - accuracy: 0.9583\n",
      "Epoch 26/50\n",
      "400/400 [==============================] - 1s 4ms/step - loss: 0.1442 - accuracy: 0.9593\n",
      "Epoch 27/50\n",
      "400/400 [==============================] - 2s 4ms/step - loss: 0.1404 - accuracy: 0.9604\n",
      "Epoch 28/50\n",
      "400/400 [==============================] - 1s 4ms/step - loss: 0.1369 - accuracy: 0.9614\n",
      "Epoch 29/50\n",
      "400/400 [==============================] - 1s 4ms/step - loss: 0.1336 - accuracy: 0.9629\n",
      "Epoch 30/50\n",
      "400/400 [==============================] - 2s 4ms/step - loss: 0.1303 - accuracy: 0.9639\n",
      "Epoch 31/50\n",
      "400/400 [==============================] - 1s 4ms/step - loss: 0.1272 - accuracy: 0.9646\n",
      "Epoch 32/50\n",
      "400/400 [==============================] - 2s 4ms/step - loss: 0.1243 - accuracy: 0.9656\n",
      "Epoch 33/50\n",
      "400/400 [==============================] - 2s 4ms/step - loss: 0.1214 - accuracy: 0.9664\n",
      "Epoch 34/50\n",
      "400/400 [==============================] - 2s 4ms/step - loss: 0.1186 - accuracy: 0.9672\n",
      "Epoch 35/50\n",
      "400/400 [==============================] - 2s 4ms/step - loss: 0.1161 - accuracy: 0.9680\n",
      "Epoch 36/50\n",
      "400/400 [==============================] - 2s 4ms/step - loss: 0.1134 - accuracy: 0.9686\n",
      "Epoch 37/50\n",
      "400/400 [==============================] - 1s 4ms/step - loss: 0.1110 - accuracy: 0.9695\n",
      "Epoch 38/50\n",
      "400/400 [==============================] - 2s 4ms/step - loss: 0.1086 - accuracy: 0.9702\n",
      "Epoch 39/50\n",
      "400/400 [==============================] - 2s 4ms/step - loss: 0.1065 - accuracy: 0.9706\n",
      "Epoch 40/50\n",
      "400/400 [==============================] - 1s 4ms/step - loss: 0.1042 - accuracy: 0.9716\n",
      "Epoch 41/50\n",
      "400/400 [==============================] - 1s 4ms/step - loss: 0.1020 - accuracy: 0.9720\n",
      "Epoch 42/50\n",
      "400/400 [==============================] - 2s 4ms/step - loss: 0.1002 - accuracy: 0.9726\n",
      "Epoch 43/50\n",
      "400/400 [==============================] - 2s 5ms/step - loss: 0.0982 - accuracy: 0.9732\n",
      "Epoch 44/50\n",
      "400/400 [==============================] - 2s 4ms/step - loss: 0.0962 - accuracy: 0.9737\n",
      "Epoch 45/50\n",
      "400/400 [==============================] - 2s 4ms/step - loss: 0.0944 - accuracy: 0.9743\n",
      "Epoch 46/50\n",
      "400/400 [==============================] - 2s 4ms/step - loss: 0.0925 - accuracy: 0.9745\n",
      "Epoch 47/50\n",
      "400/400 [==============================] - 1s 4ms/step - loss: 0.0908 - accuracy: 0.9751\n",
      "Epoch 48/50\n",
      "400/400 [==============================] - 2s 4ms/step - loss: 0.0893 - accuracy: 0.9754\n",
      "Epoch 49/50\n",
      "400/400 [==============================] - 2s 5ms/step - loss: 0.0876 - accuracy: 0.9756\n",
      "Epoch 50/50\n",
      "400/400 [==============================] - 2s 5ms/step - loss: 0.0860 - accuracy: 0.9762\n",
      "Model traing took 78.31038403511047 secs\n"
     ]
    }
   ],
   "source": [
    "# start time count and store it in tic\n",
    "tic = time()\n",
    "\n",
    "# call fit and pass training data\n",
    "model.fit(x_train_reshaped, y_train_encoded, batch_size=batch_size, epochs=epochs, verbose=1)\n",
    "\n",
    "# notice time count and store it in toc\n",
    "toc = time()\n",
    "\n",
    "# time the models took for training\n",
    "print(\"Model traing took {} secs\".format(toc-tic))\n"
   ]
  },
  {
   "cell_type": "code",
   "execution_count": 17,
   "metadata": {},
   "outputs": [
    {
     "name": "stdout",
     "output_type": "stream",
     "text": [
      "313/313 [==============================] - 1s 2ms/step\n",
      "Test accuracy :  0.9649\n"
     ]
    }
   ],
   "source": [
    "# Model testing\n",
    "\n",
    "# probabilities for the test set using the trained model\n",
    "y_pred_probs =  model.predict(x_test_reshaped, verbose=1)\n",
    "y_pred = np.where(y_pred_probs > 0.5, 1, 0)\n",
    "\n",
    "test_accuracy = accuracy_score(y_pred, y_test_encoded)\n",
    "print(\"Test accuracy : \", test_accuracy)"
   ]
  },
  {
   "cell_type": "code",
   "execution_count": 18,
   "metadata": {},
   "outputs": [
    {
     "name": "stdout",
     "output_type": "stream",
     "text": [
      "1/1 [==============================] - 0s 33ms/step\n"
     ]
    }
   ],
   "source": [
    "# Define a mask for selecting a range of indices (20 to 49)\n",
    "mask = range(20, 50)\n",
    "\n",
    "# Select the first 20 samples from the test set for visualization\n",
    "X_valid = x_test_reshaped[0:20]\n",
    "actual_labels = y_test[0:20]\n",
    "\n",
    "# Predict probabilities for the selected validation samples\n",
    "y_pred_probs= model.predict(X_valid)\n",
    "y_pred_valid = np.where(y_pred_probs > 0.5, 1, 0)\n"
   ]
  },
  {
   "cell_type": "code",
   "execution_count": 19,
   "metadata": {},
   "outputs": [
    {
     "data": {
      "image/png": "[encoded data removed]",
      "text/plain": [
       "<Figure size 2000x400 with 40 Axes>"
      ]
     },
     "metadata": {},
     "output_type": "display_data"
    }
   ],
   "source": [
    "# Set up a figure to display images\n",
    "n = len(X_valid)\n",
    "\n",
    "plt.figure(figsize=(20, 4))\n",
    "\n",
    "for i in range(n):\n",
    "    # Display the original image\n",
    "    ax = plt.subplot(2, n, i + 1)\n",
    "\n",
    "    plt.imshow(X_valid[i].reshape(28, 28))\n",
    "\n",
    "    plt.gray()\n",
    "\n",
    "    ax.get_xaxis().set_visible(False)\n",
    "    ax.get_yaxis().set_visible(False)\n",
    "\n",
    "    # Display the predicted digit\n",
    "    predicted_digit = np.argmax(y_pred_probs[i])\n",
    "\n",
    "    ax = plt.subplot(2, n, i + 1 + n)\n",
    "    \n",
    "    plt.text(0.5, 0.5, str(predicted_digit), fontsize=12, ha='center', va='center')\n",
    "    plt.axis('off')\n",
    "\n",
    "# Show the plotted images\n",
    "plt.show()\n",
    "\n",
    "# Close the plot\n",
    "plt.close()\n"
   ]
  }
 ],
 "metadata": {
  "kernelspec": {
   "display_name": "base",
   "language": "python",
   "name": "python3"
  },
  "language_info": {
   "codemirror_mode": {
    "name": "ipython",
    "version": 3
   },
   "file_extension": ".py",
   "mimetype": "text/x-python",
   "name": "python",
   "nbconvert_exporter": "python",
   "pygments_lexer": "ipython3",
   "version": "3.10.13"
  }
 },
 "nbformat": 4,
 "nbformat_minor": 2
}
